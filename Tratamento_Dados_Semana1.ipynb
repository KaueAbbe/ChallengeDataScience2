{
  "cells": [
    {
      "cell_type": "markdown",
      "metadata": {
        "id": "view-in-github",
        "colab_type": "text"
      },
      "source": [
        "<a href=\"https://colab.research.google.com/github/KaueAbbe/ChallengeDataScience2/blob/main/Tratamento_Dados_Semana1.ipynb\" target=\"_parent\"><img src=\"https://colab.research.google.com/assets/colab-badge.svg\" alt=\"Open In Colab\"/></a>"
      ]
    },
    {
      "cell_type": "code",
      "source": [
        "!apt-get update -qq\n",
        "!apt-get install openjdk-8-jdk-headless -qq > /dev/null\n",
        "!wget -q https://archive.apache.org/dist/spark/spark-3.1.2/spark-3.1.2-bin-hadoop2.7.tgz\n",
        "!tar xf spark-3.1.2-bin-hadoop2.7.tgz\n",
        "!pip install -q findspark"
      ],
      "metadata": {
        "id": "_by5mv3y26Y6"
      },
      "id": "_by5mv3y26Y6",
      "execution_count": null,
      "outputs": []
    },
    {
      "cell_type": "code",
      "execution_count": 1,
      "id": "ec52e8d9",
      "metadata": {
        "id": "ec52e8d9"
      },
      "outputs": [],
      "source": [
        "import os\n",
        "os.environ['SPARK_HOME']= 'C:\\spark\\spark-3.3.1-bin-hadoop2'"
      ]
    },
    {
      "cell_type": "code",
      "source": [],
      "metadata": {
        "id": "WqAV4nVS26gw"
      },
      "id": "WqAV4nVS26gw",
      "execution_count": null,
      "outputs": []
    },
    {
      "cell_type": "code",
      "source": [
        "import os\n",
        "os.environ[\"JAVA_HOME\"] = \"/usr/lib/jvm/java-8-openjdk-amd64\"\n",
        "os.environ[\"SPARK_HOME\"] = \"/content/spark-3.1.2-bin-hadoop2.7\""
      ],
      "metadata": {
        "id": "Pn_49kOR26Wp"
      },
      "id": "Pn_49kOR26Wp",
      "execution_count": 2,
      "outputs": []
    },
    {
      "cell_type": "code",
      "execution_count": 3,
      "id": "4f8f4eb5",
      "metadata": {
        "id": "4f8f4eb5"
      },
      "outputs": [],
      "source": [
        "import findspark\n",
        "findspark.init()"
      ]
    },
    {
      "cell_type": "code",
      "execution_count": 4,
      "id": "aff06f36",
      "metadata": {
        "id": "aff06f36"
      },
      "outputs": [],
      "source": [
        "from pyspark.sql import SparkSession\n",
        "from pyspark.sql import DataFrameReader\n",
        "from pyspark.sql.types import StructType, StructField, StringType, IntegerType, FloatType, LongType, ArrayType"
      ]
    },
    {
      "cell_type": "code",
      "execution_count": 5,
      "id": "7a8d3e95",
      "metadata": {
        "id": "7a8d3e95"
      },
      "outputs": [],
      "source": [
        "spark = SparkSession.builder.master('local[*]').getOrCreate()"
      ]
    },
    {
      "cell_type": "code",
      "source": [
        "spark"
      ],
      "metadata": {
        "colab": {
          "base_uri": "https://localhost:8080/",
          "height": 219
        },
        "id": "p-h3xMi53JGA",
        "outputId": "d07b2269-440b-4dfe-fff2-f121161c5b50"
      },
      "id": "p-h3xMi53JGA",
      "execution_count": 6,
      "outputs": [
        {
          "output_type": "execute_result",
          "data": {
            "text/plain": [
              "<pyspark.sql.session.SparkSession at 0x7fad7112bb80>"
            ],
            "text/html": [
              "\n",
              "            <div>\n",
              "                <p><b>SparkSession - in-memory</b></p>\n",
              "                \n",
              "        <div>\n",
              "            <p><b>SparkContext</b></p>\n",
              "\n",
              "            <p><a href=\"http://1c239342db92:4041\">Spark UI</a></p>\n",
              "\n",
              "            <dl>\n",
              "              <dt>Version</dt>\n",
              "                <dd><code>v3.1.2</code></dd>\n",
              "              <dt>Master</dt>\n",
              "                <dd><code>local[*]</code></dd>\n",
              "              <dt>AppName</dt>\n",
              "                <dd><code>pyspark-shell</code></dd>\n",
              "            </dl>\n",
              "        </div>\n",
              "        \n",
              "            </div>\n",
              "        "
            ]
          },
          "metadata": {},
          "execution_count": 6
        }
      ]
    },
    {
      "cell_type": "markdown",
      "id": "b1ccb27d",
      "metadata": {
        "id": "b1ccb27d"
      },
      "source": [
        "Documentação pyspark\n",
        "https://spark.apache.org/powered-by.html\n",
        "\n",
        "# Lendo e Explorando a Base de Dados"
      ]
    },
    {
      "cell_type": "code",
      "source": [
        "from google.colab import drive\n",
        "drive.mount('/content/drive')"
      ],
      "metadata": {
        "colab": {
          "base_uri": "https://localhost:8080/"
        },
        "id": "Euu5Tl6m5TEU",
        "outputId": "cd73d750-db3e-4a28-e6b5-2dba52555d43"
      },
      "id": "Euu5Tl6m5TEU",
      "execution_count": null,
      "outputs": [
        {
          "output_type": "stream",
          "name": "stdout",
          "text": [
            "Mounted at /content/drive\n"
          ]
        }
      ]
    },
    {
      "cell_type": "code",
      "execution_count": 7,
      "id": "5841f498",
      "metadata": {
        "id": "5841f498"
      },
      "outputs": [],
      "source": [
        "path ='/content/drive/MyDrive/PC novo/DS2/dataset_bruto.json'\n",
        "df = spark.read.json(path)"
      ]
    },
    {
      "cell_type": "code",
      "execution_count": 8,
      "id": "e48c1d90",
      "metadata": {
        "colab": {
          "base_uri": "https://localhost:8080/"
        },
        "id": "e48c1d90",
        "outputId": "73b4a2c2-7891-4ca2-a84a-b9208897b40b"
      },
      "outputs": [
        {
          "output_type": "stream",
          "name": "stdout",
          "text": [
            "São 89083 linhas e 3 colunas no dataframe\n"
          ]
        }
      ],
      "source": [
        "print(f'São {df.count()} linhas e {len(df.columns)} colunas no dataframe')"
      ]
    },
    {
      "cell_type": "markdown",
      "id": "aa17bc96",
      "metadata": {
        "id": "aa17bc96"
      },
      "source": [
        "Com 89083 linhas e 3 colunas vou expandir a coluna anuncio. Nela deveremos obter mais colunas para serem trabalhadas posteriormente. As colunas são mostradas no Schema. "
      ]
    },
    {
      "cell_type": "markdown",
      "id": "5dce1e98",
      "metadata": {
        "id": "5dce1e98"
      },
      "source": [
        "# Expandindo o Anuncio"
      ]
    },
    {
      "cell_type": "code",
      "execution_count": 9,
      "id": "10291a02",
      "metadata": {
        "colab": {
          "base_uri": "https://localhost:8080/"
        },
        "id": "10291a02",
        "outputId": "a4d9f13a-c0cc-4e2a-f7a1-4519ba586310"
      },
      "outputs": [
        {
          "output_type": "stream",
          "name": "stdout",
          "text": [
            "+-----+----------+---------+---------+---------------+--------------------+--------------------+-------+------+------------+------------+---------+----+--------------------+\n",
            "|andar|area_total|area_util|banheiros|caracteristicas|            endereco|                  id|quartos|suites|tipo_anuncio|tipo_unidade| tipo_uso|vaga|             valores|\n",
            "+-----+----------+---------+---------+---------------+--------------------+--------------------+-------+------+------------+------------+---------+----+--------------------+\n",
            "|    0|        []|     [16]|      [0]|             []|{Centro, 20061003...|47d553e0-79f2-4a4...|    [0]|   [0]|       Usado|      Outros|Comercial| [1]|[{260, 107, Venda...|\n",
            "+-----+----------+---------+---------+---------------+--------------------+--------------------+-------+------+------------+------------+---------+----+--------------------+\n",
            "only showing top 1 row\n",
            "\n"
          ]
        }
      ],
      "source": [
        "anuncio = df.select('anuncio.*')\n",
        "anuncio.show(1)"
      ]
    },
    {
      "cell_type": "code",
      "execution_count": 10,
      "id": "295783c8",
      "metadata": {
        "colab": {
          "base_uri": "https://localhost:8080/"
        },
        "id": "295783c8",
        "outputId": "837b1674-7b29-4908-e9de-25f394170d8a"
      },
      "outputs": [
        {
          "output_type": "stream",
          "name": "stdout",
          "text": [
            "root\n",
            " |-- andar: long (nullable = true)\n",
            " |-- area_total: array (nullable = true)\n",
            " |    |-- element: string (containsNull = true)\n",
            " |-- area_util: array (nullable = true)\n",
            " |    |-- element: string (containsNull = true)\n",
            " |-- banheiros: array (nullable = true)\n",
            " |    |-- element: long (containsNull = true)\n",
            " |-- caracteristicas: array (nullable = true)\n",
            " |    |-- element: string (containsNull = true)\n",
            " |-- endereco: struct (nullable = true)\n",
            " |    |-- bairro: string (nullable = true)\n",
            " |    |-- cep: string (nullable = true)\n",
            " |    |-- cidade: string (nullable = true)\n",
            " |    |-- estado: string (nullable = true)\n",
            " |    |-- latitude: double (nullable = true)\n",
            " |    |-- longitude: double (nullable = true)\n",
            " |    |-- pais: string (nullable = true)\n",
            " |    |-- rua: string (nullable = true)\n",
            " |    |-- zona: string (nullable = true)\n",
            " |-- id: string (nullable = true)\n",
            " |-- quartos: array (nullable = true)\n",
            " |    |-- element: long (containsNull = true)\n",
            " |-- suites: array (nullable = true)\n",
            " |    |-- element: long (containsNull = true)\n",
            " |-- tipo_anuncio: string (nullable = true)\n",
            " |-- tipo_unidade: string (nullable = true)\n",
            " |-- tipo_uso: string (nullable = true)\n",
            " |-- vaga: array (nullable = true)\n",
            " |    |-- element: long (containsNull = true)\n",
            " |-- valores: array (nullable = true)\n",
            " |    |-- element: struct (containsNull = true)\n",
            " |    |    |-- condominio: string (nullable = true)\n",
            " |    |    |-- iptu: string (nullable = true)\n",
            " |    |    |-- tipo: string (nullable = true)\n",
            " |    |    |-- valor: string (nullable = true)\n",
            "\n"
          ]
        }
      ],
      "source": [
        "anuncio.printSchema()"
      ]
    },
    {
      "cell_type": "markdown",
      "id": "0b7b5036",
      "metadata": {
        "id": "0b7b5036"
      },
      "source": [
        "# Filtrando colunas tipo: uso, unidade e anuncio"
      ]
    },
    {
      "cell_type": "code",
      "execution_count": 11,
      "id": "eedcd289",
      "metadata": {
        "colab": {
          "base_uri": "https://localhost:8080/"
        },
        "id": "eedcd289",
        "outputId": "1f8b97af-fe82-4f04-dc3a-e637898b85aa"
      },
      "outputs": [
        {
          "output_type": "stream",
          "name": "stdout",
          "text": [
            "+-----------+------------+------------+-----+\n",
            "|   tipo_uso|tipo_unidade|tipo_anuncio|count|\n",
            "+-----------+------------+------------+-----+\n",
            "|Residencial| Apartamento|       Usado|66562|\n",
            "|Residencial|        Casa|       Usado|10224|\n",
            "|Residencial|      Outros|       Usado| 7502|\n",
            "|  Comercial|      Outros|       Usado| 4443|\n",
            "|Residencial| Apartamento|  Lançamento|  235|\n",
            "|  Comercial|        Casa|       Usado|   92|\n",
            "|Residencial|      Outros|  Lançamento|   15|\n",
            "|  Comercial| Apartamento|       Usado|    4|\n",
            "|  Comercial|      Outros|  Lançamento|    3|\n",
            "|Residencial|        Casa|  Lançamento|    3|\n",
            "+-----------+------------+------------+-----+\n",
            "\n"
          ]
        }
      ],
      "source": [
        "anuncio.groupBy(['tipo_uso', 'tipo_unidade', 'tipo_anuncio']).count().orderBy('count', ascending= False).show()"
      ]
    },
    {
      "cell_type": "code",
      "execution_count": 12,
      "id": "38bbd267",
      "metadata": {
        "colab": {
          "base_uri": "https://localhost:8080/"
        },
        "id": "38bbd267",
        "outputId": "d3823b71-f00e-4a13-a852-922ae8965721"
      },
      "outputs": [
        {
          "output_type": "stream",
          "name": "stdout",
          "text": [
            "+-----+----------+---------+---------+--------------------+--------------------+--------------------+-------+------+------------+------------+-----------+----+--------------------+\n",
            "|andar|area_total|area_util|banheiros|     caracteristicas|            endereco|                  id|quartos|suites|tipo_anuncio|tipo_unidade|   tipo_uso|vaga|             valores|\n",
            "+-----+----------+---------+---------+--------------------+--------------------+--------------------+-------+------+------------+------------+-----------+----+--------------------+\n",
            "|    3|      [43]|     [43]|      [1]|[Academia, Churra...|{Paciência, 23585...|d2e3a3aa-09b5-45a...|    [2]|    []|       Usado| Apartamento|Residencial| [1]|[{245, null, Vend...|\n",
            "+-----+----------+---------+---------+--------------------+--------------------+--------------------+-------+------+------------+------------+-----------+----+--------------------+\n",
            "only showing top 1 row\n",
            "\n"
          ]
        }
      ],
      "source": [
        "anuncio.where('tipo_uso == \"Residencial\" and tipo_unidade == \"Apartamento\" and tipo_anuncio == \"Usado\"').show(1)"
      ]
    },
    {
      "cell_type": "code",
      "execution_count": 13,
      "id": "f6599073",
      "metadata": {
        "id": "f6599073",
        "colab": {
          "base_uri": "https://localhost:8080/"
        },
        "outputId": "f48f469c-80de-43fc-cf1a-e2cdbd6d3ea2"
      },
      "outputs": [
        {
          "output_type": "stream",
          "name": "stdout",
          "text": [
            "+-----+----------+---------+---------+--------------------+--------------------+--------------------+-------+------+------------+------------+-----------+----+--------------------+\n",
            "|andar|area_total|area_util|banheiros|     caracteristicas|            endereco|                  id|quartos|suites|tipo_anuncio|tipo_unidade|   tipo_uso|vaga|             valores|\n",
            "+-----+----------+---------+---------+--------------------+--------------------+--------------------+-------+------+------------+------------+-----------+----+--------------------+\n",
            "|    3|      [43]|     [43]|      [1]|[Academia, Churra...|{Paciência, 23585...|d2e3a3aa-09b5-45a...|    [2]|    []|       Usado| Apartamento|Residencial| [1]|[{245, null, Vend...|\n",
            "+-----+----------+---------+---------+--------------------+--------------------+--------------------+-------+------+------------+------------+-----------+----+--------------------+\n",
            "only showing top 1 row\n",
            "\n"
          ]
        }
      ],
      "source": [
        "anuncio_filtrado = anuncio.where('tipo_uso == \"Residencial\" and tipo_unidade == \"Apartamento\" and tipo_anuncio == \"Usado\"')\n",
        "anuncio_filtrado.show(1)"
      ]
    },
    {
      "cell_type": "code",
      "execution_count": 14,
      "id": "21bde360",
      "metadata": {
        "colab": {
          "base_uri": "https://localhost:8080/"
        },
        "id": "21bde360",
        "outputId": "98427c48-deb0-4688-f8f6-955af9f1783b"
      },
      "outputs": [
        {
          "output_type": "stream",
          "name": "stdout",
          "text": [
            "São 66562 linhas e 14 colunas no dataframe\n"
          ]
        }
      ],
      "source": [
        "print(f'São {anuncio_filtrado.count()} linhas e {len(anuncio_filtrado.columns)} colunas no dataframe')"
      ]
    },
    {
      "cell_type": "markdown",
      "id": "26b702ef",
      "metadata": {
        "id": "26b702ef"
      },
      "source": [
        "Passamos a ter uma outra base de dados dos anúncios apenas para apartamentos usados com uso residencial. Assim temos um foco para o grupo alvo. \n",
        "\n",
        "A base de dados do anúncio contém 66562 linhas e 14 colunas.\n",
        "\n",
        "# Transformando valores tipo listas em inteiros"
      ]
    },
    {
      "cell_type": "code",
      "execution_count": 15,
      "id": "a2615215",
      "metadata": {
        "id": "a2615215"
      },
      "outputs": [],
      "source": [
        "from pyspark.sql.types import IntegerType\n",
        "from pyspark.sql import functions as f"
      ]
    },
    {
      "cell_type": "code",
      "execution_count": 16,
      "id": "c343de26",
      "metadata": {
        "id": "c343de26"
      },
      "outputs": [],
      "source": [
        "anuncio_filtrado = anuncio_filtrado.withColumn('quartos', anuncio['quartos'][0].cast(IntegerType()))"
      ]
    },
    {
      "cell_type": "code",
      "execution_count": 17,
      "id": "d2bcf01d",
      "metadata": {
        "colab": {
          "base_uri": "https://localhost:8080/"
        },
        "id": "d2bcf01d",
        "outputId": "ce6f1fd4-1e63-47f5-e6cc-50f9bbdc03a3"
      },
      "outputs": [
        {
          "output_type": "stream",
          "name": "stdout",
          "text": [
            "+-------+\n",
            "|quartos|\n",
            "+-------+\n",
            "|      2|\n",
            "|      2|\n",
            "|      2|\n",
            "|      2|\n",
            "|      2|\n",
            "|      2|\n",
            "|      2|\n",
            "|      2|\n",
            "|      2|\n",
            "|      2|\n",
            "|      2|\n",
            "|      2|\n",
            "|      2|\n",
            "|      2|\n",
            "|      2|\n",
            "|      2|\n",
            "|      2|\n",
            "|      2|\n",
            "|      2|\n",
            "|      2|\n",
            "+-------+\n",
            "only showing top 20 rows\n",
            "\n"
          ]
        }
      ],
      "source": [
        "anuncio_filtrado.select('quartos').show()"
      ]
    },
    {
      "cell_type": "code",
      "execution_count": 18,
      "id": "6c8c8161",
      "metadata": {
        "id": "6c8c8161"
      },
      "outputs": [],
      "source": [
        "for i in ['banheiros','suites','vaga','area_total','area_util']:\n",
        "    anuncio_filtrado = anuncio_filtrado.withColumn(i, anuncio[i][0].cast(IntegerType()))"
      ]
    },
    {
      "cell_type": "markdown",
      "id": "1a4941c9",
      "metadata": {
        "id": "1a4941c9"
      },
      "source": [
        "# Alterando colunas endereço e filtrando por bairro e zona"
      ]
    },
    {
      "cell_type": "code",
      "execution_count": 19,
      "id": "6faf3a0f",
      "metadata": {
        "colab": {
          "base_uri": "https://localhost:8080/"
        },
        "id": "6faf3a0f",
        "outputId": "f4d66ba9-88ab-4e7f-c348-a38da0c11860"
      },
      "outputs": [
        {
          "output_type": "stream",
          "name": "stdout",
          "text": [
            "+---------+\n",
            "|   bairro|\n",
            "+---------+\n",
            "|Paciência|\n",
            "|Paciência|\n",
            "+---------+\n",
            "only showing top 2 rows\n",
            "\n"
          ]
        }
      ],
      "source": [
        "anuncio_filtrado.select('endereco.bairro').show(2)"
      ]
    },
    {
      "cell_type": "code",
      "execution_count": 20,
      "id": "33e9465b",
      "metadata": {
        "id": "33e9465b"
      },
      "outputs": [],
      "source": [
        "anuncio_filtrado = anuncio_filtrado.join(anuncio_filtrado.select('endereco.bairro'))\n",
        "anuncio_filtrado = anuncio_filtrado.join(anuncio_filtrado.select('endereco.zona'))\n"
      ]
    },
    {
      "cell_type": "code",
      "execution_count": 21,
      "id": "29820043",
      "metadata": {
        "id": "29820043"
      },
      "outputs": [],
      "source": [
        "anuncio_filtrado = anuncio_filtrado.drop('endereco')"
      ]
    },
    {
      "cell_type": "markdown",
      "id": "bc544f35",
      "metadata": {
        "id": "bc544f35"
      },
      "source": [
        "# Tratando valores"
      ]
    },
    {
      "cell_type": "code",
      "execution_count": 22,
      "id": "931dbac6",
      "metadata": {
        "id": "931dbac6",
        "colab": {
          "base_uri": "https://localhost:8080/"
        },
        "outputId": "05d95b5e-24fe-4d57-e46d-b919206226e8"
      },
      "outputs": [
        {
          "output_type": "stream",
          "name": "stdout",
          "text": [
            "root\n",
            " |-- andar: long (nullable = true)\n",
            " |-- area_total: integer (nullable = true)\n",
            " |-- area_util: integer (nullable = true)\n",
            " |-- banheiros: integer (nullable = true)\n",
            " |-- caracteristicas: array (nullable = true)\n",
            " |    |-- element: string (containsNull = true)\n",
            " |-- id: string (nullable = true)\n",
            " |-- quartos: integer (nullable = true)\n",
            " |-- suites: integer (nullable = true)\n",
            " |-- tipo_anuncio: string (nullable = true)\n",
            " |-- tipo_unidade: string (nullable = true)\n",
            " |-- tipo_uso: string (nullable = true)\n",
            " |-- vaga: integer (nullable = true)\n",
            " |-- valores: array (nullable = true)\n",
            " |    |-- element: struct (containsNull = true)\n",
            " |    |    |-- condominio: string (nullable = true)\n",
            " |    |    |-- iptu: string (nullable = true)\n",
            " |    |    |-- tipo: string (nullable = true)\n",
            " |    |    |-- valor: string (nullable = true)\n",
            " |-- bairro: string (nullable = true)\n",
            " |-- zona: string (nullable = true)\n",
            "\n"
          ]
        }
      ],
      "source": [
        "anuncio_filtrado.printSchema()"
      ]
    },
    {
      "cell_type": "code",
      "execution_count": 23,
      "id": "593ca8d7",
      "metadata": {
        "id": "593ca8d7",
        "colab": {
          "base_uri": "https://localhost:8080/"
        },
        "outputId": "c3744865-fe77-4e97-a3df-c2c039bc4897"
      },
      "outputs": [
        {
          "output_type": "execute_result",
          "data": {
            "text/plain": [
              "DataFrame[condominio: int]"
            ]
          },
          "metadata": {},
          "execution_count": 23
        }
      ],
      "source": [
        "for i in ['condominio','iptu','valor']:\n",
        "    anuncio_filtrado = anuncio_filtrado.withColumn(i, anuncio_filtrado['valores'][i][0].cast(IntegerType()))\n",
        "anuncio_filtrado.select('condominio')"
      ]
    },
    {
      "cell_type": "code",
      "execution_count": 24,
      "id": "6280bb1f",
      "metadata": {
        "id": "6280bb1f"
      },
      "outputs": [],
      "source": [
        "anuncio_filtrado = anuncio_filtrado.withColumn('tipo', anuncio_filtrado['valores']['tipo'][0])"
      ]
    },
    {
      "cell_type": "code",
      "execution_count": 25,
      "id": "937322f0",
      "metadata": {
        "id": "937322f0"
      },
      "outputs": [],
      "source": [
        "anuncio_filtrado = anuncio_filtrado.drop('valores')"
      ]
    },
    {
      "cell_type": "markdown",
      "id": "e467a818",
      "metadata": {
        "id": "e467a818"
      },
      "source": [
        "# Filtrando apenas por vendas"
      ]
    },
    {
      "cell_type": "code",
      "execution_count": 26,
      "id": "0815592e",
      "metadata": {
        "id": "0815592e"
      },
      "outputs": [],
      "source": [
        "anuncio_filtrado = anuncio_filtrado.filter(\"tipo == 'Venda'\")"
      ]
    },
    {
      "cell_type": "markdown",
      "id": "0c6b7587",
      "metadata": {
        "id": "0c6b7587"
      },
      "source": [
        "A base de dados do anúncio contém 66562 linhas e 14 colunas.\n",
        "O anuncio filtrado, agora é uma base de dados com de imóveis a venda para uso residencial. São apartamentos usados apenas.\n",
        "A base foi tratada para ter tipos de valores corretos, e agora pode ser utilizada para análise exploratória do time de ciência de dados.\n",
        "\n",
        "\n",
        "# Salvando Dados"
      ]
    },
    {
      "cell_type": "code",
      "execution_count": 27,
      "id": "84430b20",
      "metadata": {
        "id": "84430b20"
      },
      "outputs": [],
      "source": [
        "df.write.parquet('dataset_tratado')"
      ]
    },
    {
      "cell_type": "code",
      "execution_count": null,
      "id": "d2e201ea",
      "metadata": {
        "id": "d2e201ea"
      },
      "outputs": [],
      "source": []
    }
  ],
  "metadata": {
    "kernelspec": {
      "display_name": "Python 3 (ipykernel)",
      "language": "python",
      "name": "python3"
    },
    "language_info": {
      "codemirror_mode": {
        "name": "ipython",
        "version": 3
      },
      "file_extension": ".py",
      "mimetype": "text/x-python",
      "name": "python",
      "nbconvert_exporter": "python",
      "pygments_lexer": "ipython3",
      "version": "3.9.12"
    },
    "colab": {
      "provenance": [],
      "include_colab_link": true
    }
  },
  "nbformat": 4,
  "nbformat_minor": 5
}